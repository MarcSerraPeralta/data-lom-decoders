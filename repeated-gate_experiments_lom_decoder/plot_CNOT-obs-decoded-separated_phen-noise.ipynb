{
 "cells": [
  {
   "cell_type": "code",
   "execution_count": 2,
   "id": "ee748091-2215-43d6-a59d-0bf9fffab8f1",
   "metadata": {},
   "outputs": [],
   "source": [
    "from collections.abc import Iterable\n",
    "import pathlib\n",
    "import numpy as np\n",
    "import matplotlib.pyplot as plt\n",
    "\n",
    "from qec_util.performance import read_failures_from_file, plots, confidence_interval_binomial\n",
    "from surface_sim.models import PhenomenologicalDepolNoiseModel, PhenomenologicalNoiseModel\n",
    "from lomatching import MoMatching"
   ]
  },
  {
   "cell_type": "code",
   "execution_count": 3,
   "id": "c73e9643-ed2c-4803-acee-d382b2dbe3d7",
   "metadata": {},
   "outputs": [],
   "source": [
    "import matplotlib\n",
    "import matplotlib.ticker as ticker\n",
    "\n",
    "matplotlib.rcParams.update(\n",
    "    {\n",
    "        \"font.size\": 11,\n",
    "        \"font.family\": \"cmr10\",\n",
    "        \"font.weight\": \"normal\",\n",
    "        'axes.unicode_minus': False,\n",
    "        \"axes.formatter.use_mathtext\": True,\n",
    "        \"text.usetex\": True,\n",
    "        \"axes.formatter.limits\": (0,0),\n",
    "    }\n",
    ")\n",
    "\n",
    "def cm2inch(*tupl):\n",
    "    inch = 2.54\n",
    "    if isinstance(tupl[0], tuple):\n",
    "        return tuple(i/inch for i in tupl[0])\n",
    "    else:\n",
    "        return tuple(i/inch for i in tupl)\n",
    "\n",
    "int_to_alph = {i: s for i, s in enumerate(\"abcdefghijklmnopqrstuvwxyz\")}"
   ]
  },
  {
   "cell_type": "code",
   "execution_count": 4,
   "id": "446e21ea-858d-4e98-b77c-5d2727876a30",
   "metadata": {},
   "outputs": [],
   "source": [
    "# INPUTS\n",
    "EXPERIMENTS = [\"CNOT-alternating\"]\n",
    "DISTANCES = [3, 5, 7]\n",
    "PROBS = [\n",
    "    0.005,\n",
    "    0.01,\n",
    "    0.01174619,\n",
    "    0.0137973,\n",
    "    0.01620657,\n",
    "    0.01903654,\n",
    "    0.02236068,\n",
    "    0.02626528,\n",
    "    0.03085169,\n",
    "    0.03623898,\n",
    "    0.042567,\n",
    "    0.05,\n",
    "]\n",
    "NOISE_MODEL = PhenomenologicalDepolNoiseModel\n",
    "BASES = [\"Z\"]\n",
    "FRAMES = [\"pre-gate\"]\n",
    "NUM_QEC_PER_GATE = 1\n",
    "DECODER = MoMatching\n",
    "\n",
    "# DATA STORAGE\n",
    "NAME_FORMAT = \"{exp_name}_{noise_model}_{decoder}_d{distance}_b{basis}_f{frame}_s0_ncycle-{ncycle}_p{prob:0.10f}.txt\"\n",
    "DATA_DIR = pathlib.Path(\"data\")\n",
    "PLOTS_DIR = pathlib.Path(\"plots\")"
   ]
  },
  {
   "cell_type": "code",
   "execution_count": 5,
   "id": "691baa8d-5eef-4ca0-8f65-775e9031bc8e",
   "metadata": {},
   "outputs": [],
   "source": [
    "if not PLOTS_DIR.exists():\n",
    "    PLOTS_DIR.mkdir()"
   ]
  },
  {
   "cell_type": "code",
   "execution_count": 6,
   "id": "57321bb0-46c7-43c5-93a2-5620d74b1650",
   "metadata": {
    "scrolled": true
   },
   "outputs": [],
   "source": [
    "NUM_FAILURES = np.zeros((len(EXPERIMENTS), len(BASES), len(FRAMES), len(DISTANCES), len(PROBS)))\n",
    "NUM_FAILURES_1 = np.zeros((len(EXPERIMENTS), len(BASES), len(FRAMES), len(DISTANCES), len(PROBS)))\n",
    "NUM_FAILURES_2 = np.zeros((len(EXPERIMENTS), len(BASES), len(FRAMES), len(DISTANCES), len(PROBS)))\n",
    "NUM_SAMPLES = np.zeros((len(EXPERIMENTS), len(BASES), len(FRAMES), len(DISTANCES), len(PROBS)))\n",
    "\n",
    "for i, experiment_name in enumerate(EXPERIMENTS):\n",
    "    for j, basis in enumerate(BASES):\n",
    "        for k, frame in enumerate(FRAMES):\n",
    "            for l, distance in enumerate(DISTANCES):\n",
    "                for m, prob in enumerate(PROBS):\n",
    "                    file_name = NAME_FORMAT.format(\n",
    "                       exp_name=experiment_name,\n",
    "                       noise_model=NOISE_MODEL.__name__,\n",
    "                       distance=distance,\n",
    "                       basis=basis,\n",
    "                       frame=frame,\n",
    "                       prob=prob,                       \n",
    "                       decoder=DECODER.__name__,     \n",
    "                       ncycle=NUM_QEC_PER_GATE,\n",
    "                    )\n",
    "\n",
    "                    if not (DATA_DIR / file_name).exists():\n",
    "                        print(\"MISSING --\", DATA_DIR / file_name)\n",
    "                        continue\n",
    "                    try:\n",
    "                        num_failures, num_samples, extra = read_failures_from_file(DATA_DIR / file_name)\n",
    "                    except:\n",
    "                        print(\"Bad --\", DATA_DIR / file_name)\n",
    "\n",
    "                    if \"I\" == experiment_name:\n",
    "                        NUM_FAILURES[i,j,k,l,m] = num_failures\n",
    "                        NUM_SAMPLES[i,j,k,l,m] = num_samples\n",
    "                    else:\n",
    "                        NUM_FAILURES[i,j,k,l,m] = num_failures\n",
    "                        NUM_FAILURES_1[i,j,k,l,m] = extra[2]\n",
    "                        NUM_FAILURES_2[i,j,k,l,m] = extra[3]\n",
    "                        NUM_SAMPLES[i,j,k,l,m] = num_samples\n",
    "                        \n",
    "\n",
    "LOG_PROB = NUM_FAILURES / NUM_SAMPLES\n",
    "LOG_PROB_1 = NUM_FAILURES_1 / NUM_SAMPLES\n",
    "LOG_PROB_2 = NUM_FAILURES_2 / NUM_SAMPLES\n",
    "LOG_PROB_LOWER, LOG_PROB_UPPER = confidence_interval_binomial(NUM_FAILURES, NUM_SAMPLES)"
   ]
  },
  {
   "cell_type": "code",
   "execution_count": 7,
   "id": "60be483b-f557-4f9d-afed-abcd7e50c651",
   "metadata": {},
   "outputs": [
    {
     "name": "stdout",
     "output_type": "stream",
     "text": [
      "36\n"
     ]
    }
   ],
   "source": [
    "print((NUM_SAMPLES != 0).sum())\n",
    "assert (NUM_SAMPLES != 0).all()"
   ]
  },
  {
   "cell_type": "code",
   "execution_count": 8,
   "id": "b79ae366-00ee-417b-90ef-a71acde53cc2",
   "metadata": {},
   "outputs": [
    {
     "data": {
      "image/png": "[encoded data removed]",
      "text/plain": [
       "<Figure size 314.961x275.591 with 1 Axes>"
      ]
     },
     "metadata": {},
     "output_type": "display_data"
    }
   ],
   "source": [
    "fig, axes = plt.subplots(ncols=len(EXPERIMENTS), figsize=cm2inch(8, 7))\n",
    "\n",
    "if not isinstance(axes, Iterable):\n",
    "    axes = [axes]\n",
    "\n",
    "for i, experiment_name in enumerate(EXPERIMENTS):\n",
    "    ax = axes[i]\n",
    "\n",
    "    color_distances_frame = [[\"red\", \"blue\", \"green\", \"purple\"]] \n",
    "    for k, frame in enumerate(FRAMES):\n",
    "        color_distances = color_distances_frame[k]\n",
    "        for j, basis in enumerate(BASES):\n",
    "            for l, distance in enumerate(DISTANCES):\n",
    "                if experiment_name == \"I\":\n",
    "                    ax.plot(PROBS, LOG_PROB[i,j,k,l], \"-\", color=color_distances[l])\n",
    "                else:\n",
    "                    ax.plot(PROBS, LOG_PROB_1[i,j,k,l], \"-\", color=color_distances[l])\n",
    "                    ax.plot(PROBS, LOG_PROB_2[i,j,k,l], \"--\", color=color_distances[l])\n",
    "            \n",
    "    if experiment_name == \"CNOT-alternating\":\n",
    "        name = \"rep.-alt.-$\\\\overline{\\\\mathrm{CNOT}}$\"\n",
    "    elif experiment_name == \"CNOT-no-alternating\":\n",
    "        name = \"rep.-$\\\\overline{\\\\mathrm{CNOT}}$\"\n",
    "    else:\n",
    "        name = f\"rep.-$\\\\overline{{{experiment_name}}}$\"\n",
    "\n",
    "    xmin, xmax = 0.9e-2, 4.5e-2\n",
    "\n",
    "    if \"CNOT\" not in experiment_name:\n",
    "        ymin, ymax = 2e-2, 0.99999999\n",
    "    else:\n",
    "        ymin, ymax = 2e-2, 0.99999999\n",
    "    ax.set_xlim(xmin, xmax)\n",
    "    ax.set_yticks([1e-2, 1e-1])\n",
    "    ax.set_ylim(ymin, ymax)\n",
    "    ax.text(xmin*1.085, ymax/1.4, f\"{name}\", bbox=dict(facecolor='white', edgecolor='none', pad=4.0))\n",
    "    ax.set_xscale(\"log\")\n",
    "    ax.set_yscale(\"log\")\n",
    "    ax.set_ylabel(\"$\\\\overline{P}$\")\n",
    "    ax.tick_params(direction=\"in\", which=\"major\")\n",
    "    ax.tick_params(direction=\"in\", which=\"minor\")\n",
    "    \n",
    "    if i != 0:\n",
    "        ax.set_ylabel(\"\")\n",
    "        ax.set_yticklabels([])\n",
    "\n",
    "    ax.set_xlabel(\"physical error probability, $p$\")\n",
    "    xticks = [0.01, 0.02, 0.03, 0.04]\n",
    "    xticklabels = [\"0.01\", \"0.02\", \"0.03\", \"\"]\n",
    "    ax.set_xticks(xticks)\n",
    "    ax.set_xticklabels(xticklabels)\n",
    "\n",
    "\n",
    "ax = axes[0]\n",
    "lines = []\n",
    "for l, distance in enumerate(DISTANCES):\n",
    "    line, = ax.plot([], [], color=color_distances[l], linestyle=\"-\", label=f\"$d = {distance}$\")\n",
    "    lines.append(line)\n",
    "legend = ax.legend(handles=lines, loc=\"center right\", fontsize=10, frameon=False)\n",
    "ax.add_artist(legend)\n",
    "\n",
    "ax = axes[0]\n",
    "line1, = ax.plot([], [], color=\"black\", linestyle=\"-\", label=\"$\\\\{M_1, M_2\\\\}$\")\n",
    "line2, = ax.plot([], [], color=\"black\", linestyle=\"--\", label=\"$\\\\{M_1\\\\} \\\\mathrm{XOR} \\\\{M_2\\\\}$\")\n",
    "ax.legend(handles=[line1, line2], loc=\"lower right\", fontsize=10, frameon=False)\n",
    "\n",
    "fig.tight_layout(pad=0.30)\n",
    "plt.subplots_adjust(wspace=.0)\n",
    "fig.savefig(PLOTS_DIR / \"threshold_plot_repeated_exp_phen-depol-noise_cnot_z1z2.pdf\", format=\"pdf\")\n",
    "plt.show()"
   ]
  },
  {
   "cell_type": "code",
   "execution_count": null,
   "id": "812e1cdc-c42c-4787-902a-9fe4b0b06d71",
   "metadata": {},
   "outputs": [],
   "source": []
  }
 ],
 "metadata": {
  "kernelspec": {
   "display_name": "Python 3 (ipykernel)",
   "language": "python",
   "name": "python3"
  },
  "language_info": {
   "codemirror_mode": {
    "name": "ipython",
    "version": 3
   },
   "file_extension": ".py",
   "mimetype": "text/x-python",
   "name": "python",
   "nbconvert_exporter": "python",
   "pygments_lexer": "ipython3",
   "version": "3.12.10"
  }
 },
 "nbformat": 4,
 "nbformat_minor": 5
}
