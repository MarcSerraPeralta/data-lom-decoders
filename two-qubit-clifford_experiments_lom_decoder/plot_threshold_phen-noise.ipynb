{
 "cells": [
  {
   "cell_type": "code",
   "execution_count": 5,
   "id": "ee748091-2215-43d6-a59d-0bf9fffab8f1",
   "metadata": {},
   "outputs": [],
   "source": [
    "import pathlib\n",
    "import numpy as np\n",
    "import matplotlib.pyplot as plt\n",
    "\n",
    "from qec_util.performance import read_failures_from_file, plots, confidence_interval_binomial\n",
    "from surface_sim.models import PhenomenologicalDepolNoiseModel\n",
    "from lomatching import MoMatching"
   ]
  },
  {
   "cell_type": "code",
   "execution_count": 6,
   "id": "4ba42b7d-5cd9-4833-9b6c-2e3f3211a47a",
   "metadata": {},
   "outputs": [],
   "source": [
    "import matplotlib\n",
    "import matplotlib.ticker as ticker\n",
    "\n",
    "matplotlib.rcParams.update(\n",
    "    {\n",
    "        \"font.size\": 11,\n",
    "        \"font.family\": \"cmr10\",\n",
    "        \"font.weight\": \"normal\",\n",
    "        'axes.unicode_minus': False,\n",
    "        \"axes.formatter.use_mathtext\": True,\n",
    "        \"text.usetex\": True,\n",
    "        \"axes.formatter.limits\": (0,0),\n",
    "    }\n",
    ")\n",
    "\n",
    "def cm2inch(*tupl):\n",
    "    inch = 2.54\n",
    "    if isinstance(tupl[0], tuple):\n",
    "        return tuple(i/inch for i in tupl[0])\n",
    "    else:\n",
    "        return tuple(i/inch for i in tupl)\n",
    "\n",
    "int_to_alph = {i: s for i, s in enumerate(\"abcdefghijklmnopqrstuvwxyz\")}"
   ]
  },
  {
   "cell_type": "code",
   "execution_count": 10,
   "id": "446e21ea-858d-4e98-b77c-5d2727876a30",
   "metadata": {},
   "outputs": [],
   "source": [
    "# INPUTS\n",
    "FILE_NAME = \"20250130_cliffords_modulo_paulis_and_swap.txt\"\n",
    "DISTANCES = [3, 5, 7]\n",
    "PROBS = [\n",
    "    0.001,\n",
    "    0.002,\n",
    "    0.005,\n",
    "    0.01,\n",
    "    0.01165914,\n",
    "    0.01359356,\n",
    "    0.01584893,\n",
    "    0.0184785,\n",
    "    0.02,\n",
    "    0.02154435,\n",
    "    0.02352158,\n",
    "    0.02511886,\n",
    "    0.02766324,\n",
    "    0.02928645,\n",
    "    0.031,\n",
    "    0.03253415,\n",
    "    0.03414549,\n",
    "    0.03528237,\n",
    "    0.03826274,\n",
    "    0.03981072,\n",
    "    0.04149486,\n",
    "    0.045,\n",
    "    0.04641589,\n",
    "    0.05,\n",
    "    0.1,\n",
    "]\n",
    "NOISE_MODEL = PhenomenologicalDepolNoiseModel\n",
    "BASES = [\"Z\", \"X\"]\n",
    "FRAMES = [\"pre-gate\"]\n",
    "DECODER = MoMatching\n",
    "\n",
    "PLOTS_DIR = pathlib.Path(\"plots\")"
   ]
  },
  {
   "cell_type": "code",
   "execution_count": 11,
   "id": "be658210-da5d-4b56-b6ae-d9718c6ee811",
   "metadata": {},
   "outputs": [],
   "source": [
    "if not PLOTS_DIR.exists():\n",
    "    PLOTS_DIR.mkdir()"
   ]
  },
  {
   "cell_type": "code",
   "execution_count": 12,
   "id": "57321bb0-46c7-43c5-93a2-5620d74b1650",
   "metadata": {},
   "outputs": [],
   "source": [
    "# GENERATE CIRCUIT\n",
    "with open(FILE_NAME, \"r\") as file:\n",
    "    data = file.read()\n",
    "circuits = [block.split(\"TOTAL CIRCUIT:\\n\")[1] for block in data.split(\"\\n----------\\n\") if block != \"\"]\n",
    "EXPERIMENTS = list(range(len(circuits)))\n",
    "\n",
    "NUM_FAILURES = np.load(\"num-failures_phen-noise.npy\")\n",
    "NUM_SAMPLES = np.load(\"num-samples_phen-noise.npy\")\n",
    "\n",
    "LOG_PROB = NUM_FAILURES / NUM_SAMPLES\n",
    "LOG_PROB_LOWER, LOG_PROB_UPPER = confidence_interval_binomial(NUM_FAILURES, NUM_SAMPLES)"
   ]
  },
  {
   "cell_type": "code",
   "execution_count": 13,
   "id": "1720992c-7e75-4b41-a87c-564774c7a72d",
   "metadata": {},
   "outputs": [
    {
     "name": "stdout",
     "output_type": "stream",
     "text": [
      "shape: (360, 2, 1, 3, 25)\n"
     ]
    }
   ],
   "source": [
    "FULL_LOG_PROB = []\n",
    "done = []\n",
    "for i, _ in enumerate(EXPERIMENTS):\n",
    "    if (NUM_SAMPLES[i] == 0).any():\n",
    "        continue\n",
    "    FULL_LOG_PROB.append(LOG_PROB[i])\n",
    "    done.append(i)\n",
    "FULL_LOG_PROB = np.array(FULL_LOG_PROB)\n",
    "print(\"shape:\", FULL_LOG_PROB.shape)"
   ]
  },
  {
   "cell_type": "code",
   "execution_count": 14,
   "id": "8336b78d-49c7-41d0-841d-abc5bddd38b2",
   "metadata": {},
   "outputs": [],
   "source": [
    "assert len(set(range(len(EXPERIMENTS))).difference(done)) == 0\n",
    "assert (NUM_SAMPLES != 0).all()"
   ]
  },
  {
   "cell_type": "code",
   "execution_count": 15,
   "id": "98c6d837-b681-4f66-b356-f0c015d278db",
   "metadata": {},
   "outputs": [
    {
     "data": {
      "image/png": "[encoded data removed]",
      "text/plain": [
       "<Figure size 338.583x275.591 with 1 Axes>"
      ]
     },
     "metadata": {},
     "output_type": "display_data"
    }
   ],
   "source": [
    "fig, ax = plt.subplots(figsize=cm2inch(8.6, 7))\n",
    "\n",
    "num_circuits = FULL_LOG_PROB.shape[0]\n",
    "\n",
    "color_distances_frame = [[\"red\", \"blue\", \"green\", \"purple\"], [\"orange\", \"deepskyblue\", \"limegreen\", \"blueviolet\"]]\n",
    "for k, frame in enumerate(FRAMES):\n",
    "    color_distances = color_distances_frame[k]\n",
    "    marker_basis = [\"s\", \"*\"]\n",
    "    for j, basis in enumerate(BASES):\n",
    "        for l, distance in enumerate(DISTANCES):\n",
    "            ax.plot(PROBS, np.average(FULL_LOG_PROB[:,j,k,l], axis=0), \"-\" if basis == \"Z\" else \"-.\", color=color_distances[l])\n",
    "\n",
    "ax.set_xscale(\"log\")\n",
    "ax.set_yscale(\"log\")\n",
    "ax.set_xlabel(\"physical error probability, $p$\")\n",
    "ax.set_ylabel(\"$\\\\overline{P}$\")\n",
    "ax.set_ylim(3.7e-1, 0.8)\n",
    "ax.set_xlim(2e-2, 4.5e-2)\n",
    "\n",
    "xticks = [0.02, 0.03, 0.04]\n",
    "ax.set_xticks(xticks)\n",
    "ax.set_xticklabels(map(str, xticks))\n",
    "\n",
    "yticks = [0.4, 0.5, 0.6, 0.7, 0.8]\n",
    "ax.set_yticks(yticks)\n",
    "ax.set_yticklabels(map(str, yticks))\n",
    "\n",
    "ax.text(0.0205, 0.755, \"\\\\textbf{a}\")\n",
    "\n",
    "ax.tick_params(direction=\"in\", which=\"major\")\n",
    "ax.tick_params(direction=\"in\", which=\"minor\")\n",
    "\n",
    "lines = []\n",
    "for l, distance in enumerate(DISTANCES):\n",
    "    line, = ax.plot([], [], color=color_distances[l], linestyle=\"-\", label=f\"$d = {distance}$\")\n",
    "    lines.append(line)\n",
    "legend = ax.legend(handles=lines, loc=\"lower right\", fontsize=10, frameon=False)\n",
    "ax.add_artist(legend)\n",
    "\n",
    "line1, = ax.plot([], [], color=\"black\", linestyle=\"-\", label=\"$\\\\overline{Z}$ basis\")\n",
    "line2, = ax.plot([], [], color=\"black\", linestyle=\"-.\", label=\"$\\\\overline{X}$ basis\")\n",
    "ax.legend(handles=[line1, line2], loc=\"center right\", fontsize=10, frameon=False)\n",
    "\n",
    "fig.tight_layout(pad=0.30)\n",
    "fig.savefig(PLOTS_DIR / \"threshold_plot_2q-cliffords_phen-depol-noise.pdf\", format=\"pdf\")\n",
    "plt.show()"
   ]
  },
  {
   "cell_type": "code",
   "execution_count": 16,
   "id": "e0e14454-7975-4d03-99e4-bc59946f3d0b",
   "metadata": {},
   "outputs": [
    {
     "data": {
      "image/png": "[encoded data removed]",
      "text/plain": [
       "<Figure size 338.583x275.591 with 1 Axes>"
      ]
     },
     "metadata": {},
     "output_type": "display_data"
    }
   ],
   "source": [
    "fig, ax = plt.subplots(figsize=cm2inch(8.6, 7))\n",
    "\n",
    "num_circuits = FULL_LOG_PROB.shape[0]\n",
    "\n",
    "color_distances_frame = [[\"red\", \"blue\", \"green\", \"purple\"], [\"orange\", \"deepskyblue\", \"limegreen\", \"blueviolet\"]]\n",
    "for k, frame in enumerate(FRAMES):\n",
    "    color_distances = color_distances_frame[k]\n",
    "    marker_basis = [\"s\", \"*\"]\n",
    "    for j, basis in enumerate(BASES):\n",
    "        for l, distance in enumerate(DISTANCES):\n",
    "            ax.plot(PROBS, np.average(FULL_LOG_PROB[:,j,k,l], axis=0), \"-\" if basis == \"Z\" else \"-.\", color=color_distances[l])\n",
    "            ax.fill_between(PROBS, np.min(FULL_LOG_PROB[:,j,k,l], axis=0), np.max(FULL_LOG_PROB[:,j,k,l], axis=0), color=color_distances[l], alpha=0.2)\n",
    "\n",
    "ax.set_xscale(\"log\")\n",
    "ax.set_yscale(\"log\")\n",
    "ax.set_xlabel(\"physical error probability, $p$\")\n",
    "ax.set_ylabel(\"$\\\\overline{P}$\")\n",
    "ax.set_ylim(1e-7, 1.000001)\n",
    "ax.set_xlim(1e-3, 5e-2)\n",
    "\n",
    "ax.text(0.0012, 0.25, \"\\\\textbf{b}\")\n",
    "\n",
    "PROBS_ = np.array(PROBS)\n",
    "PROBS_ = PROBS_[PROBS_ <1e-2]\n",
    "ax.plot(PROBS_, PROBS_**2 * 1.5e3, \"--\", color=\"black\", label=\"$\\\\overline{P} \\\\propto p^2$\")\n",
    "ax.plot(PROBS_, PROBS_**3 * 3e4, linestyle=(0, (3, 2, 1, 2, 1, 2)), color=\"black\", label=\"$\\\\overline{P} \\\\propto p^3$\")\n",
    "ax.plot(PROBS_, PROBS_**4 * 5e5, \":\", color=\"black\", label=\"$\\\\overline{P} \\\\propto p^4$\")\n",
    "ax.legend(loc=\"lower right\", fontsize=10, frameon=False)\n",
    "\n",
    "ax.tick_params(direction=\"in\", which=\"major\")\n",
    "ax.tick_params(direction=\"in\", which=\"minor\")\n",
    "\n",
    "fig.tight_layout(pad=0.30)\n",
    "fig.savefig(PLOTS_DIR / \"threshold_plot_2q-cliffords_phen-depol-noise_scaling.pdf\", format=\"pdf\")\n",
    "plt.show()"
   ]
  },
  {
   "cell_type": "markdown",
   "id": "b185fb7e-a006-4b44-95d6-b663f3db9ba7",
   "metadata": {},
   "source": [
    "# Get best and worse circuits"
   ]
  },
  {
   "cell_type": "code",
   "execution_count": 21,
   "id": "aaaaac40-cf60-483f-9fe1-51fc5750eee8",
   "metadata": {},
   "outputs": [],
   "source": [
    "worse_pl = {d: (0, None) for d in DISTANCES}\n",
    "second_worse_pl = {d: (0, None) for d in DISTANCES}\n",
    "best_pl = {d: (np.inf, None) for d in DISTANCES}\n",
    "second_best_pl = {d: (np.inf, None) for d in DISTANCES}\n",
    "for i, experiment_name in enumerate(EXPERIMENTS):\n",
    "    for j, basis in enumerate(BASES):\n",
    "        for k, frame in enumerate(FRAMES):\n",
    "            for l, distance in enumerate(DISTANCES):\n",
    "                for m, prob in enumerate(PROBS):\n",
    "                    if prob != 2e-3:\n",
    "                        continue\n",
    "\n",
    "                    if LOG_PROB[i,j,k,l,m] > worse_pl[distance][0]:\n",
    "                        worse_pl[distance] = (float(LOG_PROB[i,j,k,l,m]), i)\n",
    "                    elif LOG_PROB[i,j,k,l,m] > second_worse_pl[distance][0]:\n",
    "                        second_worse_pl[distance] = (float(LOG_PROB[i,j,k,l,m]), i)\n",
    "                        \n",
    "                    if LOG_PROB[i,j,k,l,m] < best_pl[distance][0]:\n",
    "                        best_pl[distance] = (float(LOG_PROB[i,j,k,l,m]), i)\n",
    "                    elif LOG_PROB[i,j,k,l,m] < second_best_pl[distance][0]:\n",
    "                        second_best_pl[distance] = (float(LOG_PROB[i,j,k,l,m]), i)"
   ]
  },
  {
   "cell_type": "code",
   "execution_count": 22,
   "id": "72419ae3-5a5a-4b26-a27b-db88f119acd2",
   "metadata": {},
   "outputs": [
    {
     "name": "stdout",
     "output_type": "stream",
     "text": [
      "{3: (0.016920601148260724, 248), 5: (0.0008764193292843939, 255), 7: (3.616429389625266e-05, 255)}\n",
      "{3: (0.01636096763648251, 255), 5: (0.0007718072450655139, 281), 7: (3.0277297662884197e-05, 281)}\n",
      "{3: (0.003230903921948698, 0), 5: (7.269354022600776e-05, 0), 7: (1.6040984294952548e-06, 0)}\n",
      "{3: (0.004055967245013783, 74), 5: (0.00010169181836638018, 74), 7: (1.6095669036845508e-06, 0)}\n"
     ]
    }
   ],
   "source": [
    "print(worse_pl)\n",
    "print(second_worse_pl)\n",
    "print(best_pl)\n",
    "print(second_best_pl)"
   ]
  },
  {
   "cell_type": "code",
   "execution_count": 23,
   "id": "6658b695-876a-473b-a51c-0d7c5f2c3765",
   "metadata": {},
   "outputs": [
    {
     "name": "stdout",
     "output_type": "stream",
     "text": [
      "3 5.237110591037067\n",
      "5 12.056357780341466\n",
      "7 22.544934420035624\n"
     ]
    }
   ],
   "source": [
    "for distance in DISTANCES:\n",
    "    print(distance, worse_pl[distance][0] / best_pl[distance][0])"
   ]
  },
  {
   "cell_type": "code",
   "execution_count": 24,
   "id": "9b63e3b0-b116-4db0-9ba3-9b46de9d86c2",
   "metadata": {},
   "outputs": [],
   "source": [
    "with open(FILE_NAME, \"r\") as file:\n",
    "    data = file.read()\n",
    "circuits = [block.split(\"TOTAL CIRCUIT:\\n\")[1] for block in data.split(\"\\n----------\\n\") if block != \"\"]\n",
    "labelled_circuits_z = {}\n",
    "labelled_circuits_x = {}\n",
    "for k, circuit in enumerate(circuits):\n",
    "    labelled_circuits_z[k] = circuit\n",
    "    labelled_circuits_x[k] = circuit.replace(\"R 0 1\", \"RX 0 1\").replace(\"M 0 1\", \"MX 0 1\")\n",
    "    \n",
    "EXPERIMENTS = list(range(len(labelled_circuits_z)))\n",
    "assert len(EXPERIMENTS) == 360"
   ]
  },
  {
   "cell_type": "code",
   "execution_count": 25,
   "id": "ebfc0602-827b-4d71-8b2d-0bd36069a1b8",
   "metadata": {
    "scrolled": true
   },
   "outputs": [
    {
     "name": "stdout",
     "output_type": "stream",
     "text": [
      "depth = 14\n",
      "R 0 1\n",
      "TICK\n",
      "S 0\n",
      "I 1\n",
      "TICK\n",
      "CX 1 0\n",
      "TICK\n",
      "H 0\n",
      "I 1\n",
      "TICK\n",
      "CX 0 1\n",
      "TICK\n",
      "S 0\n",
      "I 1\n",
      "TICK\n",
      "H 0\n",
      "I 1\n",
      "TICK\n",
      "S 0\n",
      "I 1\n",
      "TICK\n",
      "S 0\n",
      "I 1\n",
      "TICK\n",
      "CX 1 0\n",
      "TICK\n",
      "H 0\n",
      "I 1\n",
      "TICK\n",
      "CX 0 1\n",
      "TICK\n",
      "S 0\n",
      "I 1\n",
      "TICK\n",
      "H 0\n",
      "I 1\n",
      "TICK\n",
      "S 0\n",
      "I 1\n",
      "TICK\n",
      "M 0 1\n"
     ]
    }
   ],
   "source": [
    "ind = 255\n",
    "print(\"depth =\", len(circuits[ind].split(\"TICK\")) - 2)\n",
    "print(circuits[ind])"
   ]
  },
  {
   "cell_type": "code",
   "execution_count": 26,
   "id": "504192fa-413c-4728-b213-c676b53a9881",
   "metadata": {},
   "outputs": [
    {
     "name": "stdout",
     "output_type": "stream",
     "text": [
      "depth = 0\n",
      "R 0 1\n",
      "TICK\n",
      "M 0 1\n"
     ]
    }
   ],
   "source": [
    "ind = 0\n",
    "print(\"depth =\", len(circuits[ind].split(\"TICK\")) - 2)\n",
    "print(circuits[ind])"
   ]
  },
  {
   "cell_type": "code",
   "execution_count": 27,
   "id": "b5bcc4c3-d7ef-4da1-ab56-651fccfe35ff",
   "metadata": {},
   "outputs": [
    {
     "name": "stdout",
     "output_type": "stream",
     "text": [
      "depth = 2\n",
      "R 0 1\n",
      "TICK\n",
      "H 0 1\n",
      "TICK\n",
      "H 0 1\n",
      "TICK\n",
      "M 0 1\n"
     ]
    }
   ],
   "source": [
    "ind = 74\n",
    "print(\"depth =\", len(circuits[ind].split(\"TICK\")) - 2)\n",
    "print(circuits[ind])"
   ]
  },
  {
   "cell_type": "code",
   "execution_count": null,
   "id": "bda58587-2169-4746-804e-091ef9987c7d",
   "metadata": {},
   "outputs": [],
   "source": []
  }
 ],
 "metadata": {
  "kernelspec": {
   "display_name": "Python 3 (ipykernel)",
   "language": "python",
   "name": "python3"
  },
  "language_info": {
   "codemirror_mode": {
    "name": "ipython",
    "version": 3
   },
   "file_extension": ".py",
   "mimetype": "text/x-python",
   "name": "python",
   "nbconvert_exporter": "python",
   "pygments_lexer": "ipython3",
   "version": "3.12.10"
  }
 },
 "nbformat": 4,
 "nbformat_minor": 5
}
