{
 "cells": [
  {
   "cell_type": "code",
   "execution_count": 1,
   "id": "ee748091-2215-43d6-a59d-0bf9fffab8f1",
   "metadata": {},
   "outputs": [],
   "source": [
    "import pathlib\n",
    "import os\n",
    "import numpy as np\n",
    "import matplotlib.pyplot as plt\n",
    "\n",
    "from qec_util.performance import read_failures_from_file, plots, confidence_interval_binomial\n",
    "from surface_sim.models import SI1000NoiseModel\n",
    "from pymatching import Matching\n",
    "from lomatching import MoMatching"
   ]
  },
  {
   "cell_type": "code",
   "execution_count": 2,
   "id": "c73e9643-ed2c-4803-acee-d382b2dbe3d7",
   "metadata": {},
   "outputs": [],
   "source": [
    "import matplotlib\n",
    "import matplotlib.ticker as ticker\n",
    "\n",
    "matplotlib.rcParams.update(\n",
    "    {\n",
    "        \"font.size\": 11,\n",
    "        \"font.family\": \"cmr10\",\n",
    "        \"font.weight\": \"normal\",\n",
    "        'axes.unicode_minus': False,\n",
    "        \"axes.formatter.use_mathtext\": True,\n",
    "        \"text.usetex\": True,\n",
    "        \"axes.formatter.limits\": (0,0),\n",
    "    }\n",
    ")\n",
    "\n",
    "def cm2inch(*tupl):\n",
    "    inch = 2.54\n",
    "    if isinstance(tupl[0], tuple):\n",
    "        return tuple(i/inch for i in tupl[0])\n",
    "    else:\n",
    "        return tuple(i/inch for i in tupl)\n",
    "\n",
    "int_to_alph = {i: s for i, s in enumerate(\"abcdefghijklmnopqrstuvwxyz\")}"
   ]
  },
  {
   "cell_type": "code",
   "execution_count": 3,
   "id": "2971f62e-38b6-4599-b3c9-d80b086534ba",
   "metadata": {},
   "outputs": [],
   "source": [
    "# INPUTS\n",
    "EXPERIMENTS = [\"I\"]\n",
    "DISTANCES = [3, 5, 7]\n",
    "PROBS_I  = [\n",
    "    0.0002,\n",
    "    0.0005,\n",
    "    0.001,\n",
    "    0.00116591,\n",
    "    0.00135936,\n",
    "    0.00158489,\n",
    "    0.00184785,\n",
    "    0.002,\n",
    "    0.00215443,\n",
    "    0.00251189,\n",
    "    0.00292864,\n",
    "    0.00341455,\n",
    "    0.00398107,\n",
    "    0.00464159,\n",
    "    0.005,\n",
    "    0.0054117,\n",
    "    0.00630957,\n",
    "    0.00735642,\n",
    "    0.00857696,\n",
    "    0.01,\n",
    "]\n",
    "NOISE_MODEL = SI1000NoiseModel\n",
    "BASES = [\"Z\", \"X\"]\n",
    "FRAMES = [\"pre-gate\"]\n",
    "NUM_QEC_PER_GATE = 1\n",
    "DECODER = MoMatching\n",
    "\n",
    "# DATA STORAGE\n",
    "NAME_FORMAT = \"{exp_name}_{noise_model}_{decoder}_d{distance}_b{basis}_f{frame}_s0_ncycle-{ncycle}_p{prob:0.10f}.txt\"\n",
    "DATA_DIR = pathlib.Path(os.getcwd().replace(\"repeated-gate_experiments_splitting-hyperedge_decoding\", \"repeated-gate_experiments_lom_decoder\")) / \"data\"\n",
    "PLOTS_DIR = pathlib.Path(\"plots\")"
   ]
  },
  {
   "cell_type": "code",
   "execution_count": 4,
   "id": "7356e3dd-dafd-414e-a1a6-045a826b88d3",
   "metadata": {},
   "outputs": [],
   "source": [
    "if not PLOTS_DIR.exists():\n",
    "    PLOTS_DIR.mkdir()"
   ]
  },
  {
   "cell_type": "code",
   "execution_count": 5,
   "id": "59743844-b4e4-43b8-8604-e034d29689a5",
   "metadata": {
    "scrolled": true
   },
   "outputs": [],
   "source": [
    "NUM_FAILURES_I = np.zeros((len(EXPERIMENTS), len(BASES), len(FRAMES), len(DISTANCES), len(PROBS_I)))\n",
    "NUM_SAMPLES_I = np.zeros((len(EXPERIMENTS), len(BASES), len(FRAMES), len(DISTANCES), len(PROBS_I)))\n",
    "\n",
    "for i, experiment_name in enumerate(EXPERIMENTS):\n",
    "    for j, basis in enumerate(BASES):\n",
    "        for k, frame in enumerate(FRAMES):\n",
    "            for l, distance in enumerate(DISTANCES):\n",
    "                for m, prob in enumerate(PROBS_I):\n",
    "                    file_name = NAME_FORMAT.format(\n",
    "                       exp_name=experiment_name,\n",
    "                       noise_model=NOISE_MODEL.__name__,\n",
    "                       distance=distance,\n",
    "                       basis=basis,\n",
    "                       frame=frame,\n",
    "                       prob=prob,                       \n",
    "                       decoder=DECODER.__name__,       \n",
    "                       ncycle=NUM_QEC_PER_GATE,\n",
    "                    )\n",
    "\n",
    "                    if not (DATA_DIR / file_name).exists():\n",
    "                        print(\"MISSING --\", DATA_DIR / file_name)\n",
    "                        continue\n",
    "\n",
    "                    try:\n",
    "                        num_failures, num_samples, extra = read_failures_from_file(DATA_DIR / file_name)\n",
    "                        NUM_FAILURES_I[i,j,k,l,m] = num_failures\n",
    "                        NUM_SAMPLES_I[i,j,k,l,m] = num_samples\n",
    "                    except:\n",
    "                        print(\"BAD --\", DATA_DIR / file_name)\n",
    "\n",
    "LOG_PROB_I = NUM_FAILURES_I / NUM_SAMPLES_I\n",
    "LOG_PROB_LOWER_I, LOG_PROB_UPPER_I = confidence_interval_binomial(NUM_FAILURES_I, NUM_SAMPLES_I)"
   ]
  },
  {
   "cell_type": "code",
   "execution_count": 6,
   "id": "9ef77e94-adb8-4e0c-9eaf-9929218dd812",
   "metadata": {},
   "outputs": [
    {
     "name": "stdout",
     "output_type": "stream",
     "text": [
      "120\n"
     ]
    }
   ],
   "source": [
    "print((NUM_SAMPLES_I != 0).sum())\n",
    "assert (NUM_SAMPLES_I != 0).all()"
   ]
  },
  {
   "cell_type": "code",
   "execution_count": 7,
   "id": "446e21ea-858d-4e98-b77c-5d2727876a30",
   "metadata": {},
   "outputs": [],
   "source": [
    "# INPUTS\n",
    "EXPERIMENTS = [\"S\", \"CNOT-no-alternating\"]\n",
    "DISTANCES = [3, 5, 7]\n",
    "PROBS  = [1e-05, 2e-05, 4e-05, 5e-05, 0.0001, 0.0002, 0.0005, 0.001, 0.002, 0.003, 0.005, 0.007, 0.01, 0.02, 0.05, 0.1]\n",
    "NOISE_MODEL = SI1000NoiseModel\n",
    "BASES = [\"Z\"]\n",
    "FRAMES = [\"pre-gate\"]\n",
    "DECODER = Matching\n",
    "\n",
    "# DATA STORAGE\n",
    "NAME_FORMAT = \"{exp_name}_{noise_model}_{decoder}_d{distance}_b{basis}_f{frame}_s0_p{prob:0.10f}.txt\"\n",
    "DATA_DIR = pathlib.Path(\"data\")"
   ]
  },
  {
   "cell_type": "code",
   "execution_count": 8,
   "id": "57321bb0-46c7-43c5-93a2-5620d74b1650",
   "metadata": {
    "scrolled": true
   },
   "outputs": [],
   "source": [
    "NUM_FAILURES = np.zeros((len(EXPERIMENTS), len(BASES), len(FRAMES), len(DISTANCES), len(PROBS)))\n",
    "NUM_SAMPLES = np.zeros((len(EXPERIMENTS), len(BASES), len(FRAMES), len(DISTANCES), len(PROBS)))\n",
    "\n",
    "for i, experiment_name in enumerate(EXPERIMENTS):\n",
    "    for j, basis in enumerate(BASES):\n",
    "        for k, frame in enumerate(FRAMES):\n",
    "            for l, distance in enumerate(DISTANCES):\n",
    "                for m, prob in enumerate(PROBS):\n",
    "                    file_name = NAME_FORMAT.format(\n",
    "                       exp_name=experiment_name,\n",
    "                       noise_model=NOISE_MODEL.__name__,\n",
    "                       distance=distance,\n",
    "                       basis=basis,\n",
    "                       frame=frame,\n",
    "                       prob=prob,                       \n",
    "                       decoder=DECODER.__name__,       \n",
    "                    )\n",
    "\n",
    "                    if not (DATA_DIR / file_name).exists():\n",
    "                        print(DATA_DIR / file_name)\n",
    "                        continue\n",
    "\n",
    "                    num_failures, num_samples, extra = read_failures_from_file(DATA_DIR / file_name)\n",
    "                    NUM_FAILURES[i,j,k,l,m] = num_failures\n",
    "                    NUM_SAMPLES[i,j,k,l,m] = num_samples\n",
    "\n",
    "LOG_PROB = NUM_FAILURES / NUM_SAMPLES\n",
    "LOG_PROB_LOWER, LOG_PROB_UPPER = confidence_interval_binomial(NUM_FAILURES, NUM_SAMPLES)"
   ]
  },
  {
   "cell_type": "code",
   "execution_count": 9,
   "id": "60be483b-f557-4f9d-afed-abcd7e50c651",
   "metadata": {},
   "outputs": [
    {
     "name": "stdout",
     "output_type": "stream",
     "text": [
      "96\n"
     ]
    }
   ],
   "source": [
    "print((NUM_SAMPLES != 0).sum())\n",
    "assert (NUM_SAMPLES != 0).all()"
   ]
  },
  {
   "cell_type": "code",
   "execution_count": 10,
   "id": "b79ae366-00ee-417b-90ef-a71acde53cc2",
   "metadata": {},
   "outputs": [
    {
     "data": {
      "image/png": "[encoded data removed]",
      "text/plain": [
       "<Figure size 708.661x236.22 with 3 Axes>"
      ]
     },
     "metadata": {},
     "output_type": "display_data"
    }
   ],
   "source": [
    "fig, axes = plt.subplots(ncols=3, figsize=cm2inch(18, 6))\n",
    "\n",
    "# plot idling\n",
    "i = 0\n",
    "ax = axes[i]\n",
    "color_distances_frame = [[\"red\", \"blue\", \"green\", \"purple\"],]\n",
    "for k, frame in enumerate(FRAMES):\n",
    "    color_distances = color_distances_frame[k]\n",
    "    for j, basis in enumerate(BASES):\n",
    "        for l, distance in enumerate(DISTANCES):\n",
    "            plots.plot_line_threshold(ax, PROBS_I, LOG_PROB_I[i,j,k,l], LOG_PROB_LOWER_I[i,j,k,l], LOG_PROB_UPPER_I[i,j,k,l], \n",
    "                                      linestyle=\"-\" if basis == \"Z\" else \"-.\",\n",
    "                                      color=color_distances[l], marker=\"none\")\n",
    "            \n",
    "name = \"rep.-$\\\\overline{I}$\"\n",
    "\n",
    "xmin, xmax = 1e-5, 1e-2\n",
    "\n",
    "if \"CNOT\" not in experiment_name:\n",
    "    ymin, ymax = 1e-4, 0.99999999\n",
    "else:\n",
    "    ymin, ymax = 1e-4, 0.99999999\n",
    "ax.set_xlim(xmin, xmax)\n",
    "ax.set_yticks([1e-2, 1e-1])\n",
    "ax.set_ylim(ymin, ymax)\n",
    "ax.text(xmin*1.5, ymax/2.5, f\"\\\\textbf{{{int_to_alph[i]}}} {name}\", horizontalalignment=\"left\")\n",
    "\n",
    "ax.set_xscale(\"log\")\n",
    "ax.set_yscale(\"log\")\n",
    "ax.set_ylabel(\"$\\\\overline{P}$\")\n",
    "ax.tick_params(direction=\"in\", which=\"major\")\n",
    "ax.tick_params(direction=\"in\", which=\"minor\")\n",
    "ax.set_yticks([1e-1, 1e-2, 1e-3])\n",
    "ax.set_ylim(1e-4, 1)\n",
    "if i != 0:\n",
    "    ax.set_ylabel(\"\")\n",
    "    ax.set_yticklabels([])\n",
    "ax.set_xticks([1e-5, 1e-4, 1e-3, 1e-2])\n",
    "ax.set_xticklabels([\"\", \"$10^{-4}$\", \"$10^{-3}$\", \"\"])\n",
    "\n",
    "\n",
    "for i, experiment_name in enumerate(EXPERIMENTS):\n",
    "    ax = axes[i+1]\n",
    "\n",
    "    color_distances_frame = [[\"red\", \"blue\", \"green\", \"purple\"],]\n",
    "    for k, frame in enumerate(FRAMES):\n",
    "        color_distances = color_distances_frame[k]\n",
    "        for j, basis in enumerate(BASES):\n",
    "            for l, distance in enumerate(DISTANCES):\n",
    "                plots.plot_line_threshold(ax, PROBS, LOG_PROB[i,j,k,l], LOG_PROB_LOWER[i,j,k,l], LOG_PROB_UPPER[i,j,k,l], \n",
    "                                          linestyle=\"-\" if basis == \"Z\" else \"-.\",\n",
    "                                          color=color_distances[l], marker=\"none\")\n",
    "\n",
    "    i+=1\n",
    "                \n",
    "    if experiment_name == \"CNOT-alternating\":\n",
    "        name = \"rep.-alt.-$\\\\overline{\\\\mathrm{CNOT}}$\"\n",
    "    elif experiment_name == \"CNOT-no-alternating\":\n",
    "        name = \"rep.-$\\\\overline{\\\\mathrm{CNOT}}$\"\n",
    "    else:\n",
    "        name = f\"rep.-$\\\\overline{{{experiment_name}}}$\"\n",
    "\n",
    "    xmin, xmax = 1e-5, 1e-2\n",
    "\n",
    "    if \"CNOT\" not in experiment_name:\n",
    "        ymin, ymax = 1e-4, 0.99999999\n",
    "    else:\n",
    "        ymin, ymax = 1e-4, 0.99999999\n",
    "    ax.set_xlim(xmin, xmax)\n",
    "    ax.set_yticks([1e-2, 1e-1])\n",
    "    ax.set_ylim(ymin, ymax)\n",
    "    ax.text(xmin*1.5, ymax/2.5, f\"\\\\textbf{{{int_to_alph[i]}}} {name}\", horizontalalignment=\"left\")\n",
    "\n",
    "    ax.set_xscale(\"log\")\n",
    "    ax.set_yscale(\"log\")\n",
    "    ax.set_ylabel(\"$\\\\overline{P}$\")\n",
    "    ax.tick_params(direction=\"in\", which=\"major\")\n",
    "    ax.tick_params(direction=\"in\", which=\"minor\")\n",
    "    ax.set_yticks([1e-1, 1e-2, 1e-3])\n",
    "    ax.set_ylim(1e-4, 1)\n",
    "    if i != 0:\n",
    "        ax.set_ylabel(\"\")\n",
    "        ax.set_yticklabels([])\n",
    "    ax.set_xticks([1e-5, 1e-4, 1e-3, 1e-2])\n",
    "    ax.set_xticklabels([\"\", \"$10^{-4}$\", \"$10^{-3}$\", \"\"])\n",
    "\n",
    "    PROBS_ = np.array(PROBS)\n",
    "    PROBS_ = PROBS_[PROBS_<=1e-3]\n",
    "    ax.plot(PROBS_, PROBS_*10, \"--\", color=\"gray\")\n",
    "\n",
    "color_distances = color_distances_frame[-1]\n",
    "for l, distance in enumerate(DISTANCES):\n",
    "    axes[0].plot([], [], linestyle=\"-\", color=color_distances[l], label=f\"$d = {distance}$\")\n",
    "axes[0].plot([], [], linestyle=\"--\", color=\"gray\", label=\"$\\\\overline{P} = 10p$\")\n",
    "axes[0].legend(loc=\"center left\", frameon=False, fontsize=9)\n",
    "\n",
    "fig.tight_layout(pad=0.30)\n",
    "plt.subplots_adjust(wspace=.0)\n",
    "fig.savefig(PLOTS_DIR / \"threshold_plot_repeated_exp_circ-level-noise_matching_SI1000.pdf\", format=\"pdf\")\n",
    "plt.show()"
   ]
  },
  {
   "cell_type": "code",
   "execution_count": null,
   "id": "7b124a62-7c20-4691-be94-c83d4ddd5139",
   "metadata": {},
   "outputs": [],
   "source": []
  }
 ],
 "metadata": {
  "kernelspec": {
   "display_name": "Python 3 (ipykernel)",
   "language": "python",
   "name": "python3"
  },
  "language_info": {
   "codemirror_mode": {
    "name": "ipython",
    "version": 3
   },
   "file_extension": ".py",
   "mimetype": "text/x-python",
   "name": "python",
   "nbconvert_exporter": "python",
   "pygments_lexer": "ipython3",
   "version": "3.12.10"
  }
 },
 "nbformat": 4,
 "nbformat_minor": 5
}
